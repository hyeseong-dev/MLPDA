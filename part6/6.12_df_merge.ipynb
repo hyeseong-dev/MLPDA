{
 "metadata": {
  "language_info": {
   "codemirror_mode": {
    "name": "ipython",
    "version": 3
   },
   "file_extension": ".py",
   "mimetype": "text/x-python",
   "name": "python",
   "nbconvert_exporter": "python",
   "pygments_lexer": "ipython3",
   "version": "3.8.6-candidate"
  },
  "orig_nbformat": 2,
  "kernelspec": {
   "name": "Python 3.8.6 64-bit ('.env': venv)",
   "display_name": "Python 3.8.6 64-bit ('.env': venv)",
   "metadata": {
    "interpreter": {
     "hash": "9e1d73410613cfa3c2c4484a1bf1747399983f3dfcc516eb1e8b1dc4860e5f7a"
    }
   }
  }
 },
 "nbformat": 4,
 "nbformat_minor": 2,
 "cells": [
  {
   "cell_type": "code",
   "execution_count": 2,
   "metadata": {},
   "outputs": [
    {
     "output_type": "stream",
     "name": "stdout",
     "text": [
      "       id    stock_name          value   price\n0  128940      한미약품   59385.666667  421000\n1  130960        CJ E&M   58540.666667   98900\n2  138250    엔에스쇼핑   14558.666667   13200\n3  139480        이마트  239230.833333  254500\n4  142280  녹십자엠에스     468.833333   10200\n5  145990        삼양사   82750.000000   82000\n6  185750        종근당   40293.666667  100500\n7  192400    쿠쿠홀딩스  179204.666667  177500\n8  199800          툴젠   -2514.333333  115400\n9  204210  모두투어리츠    3093.333333    3475\n\n\n       id              name           eps     bps        per       pbr\n0  130960            CJ E&M   6301.333333   54068  15.695091  1.829178\n1  136480              하림    274.166667    3551  11.489362  0.887074\n2  138040    메리츠금융지주   2122.333333   14894   6.313806  0.899691\n3  139480            이마트  18268.166667  295780  13.931338  0.860437\n4  145990            삼양사   5741.000000  108090  14.283226  0.758627\n5  161390        한국타이어   5648.500000   51341   7.453306  0.820007\n6  181710   NHN엔터테인먼트   2110.166667   78434  30.755864  0.827447\n7  185750            종근당   3990.333333   40684  25.185866  2.470259\n8  204210      모두투어리츠     85.166667    5335  40.802348  0.651359\n9  207940  삼성바이오로직스   4644.166667   60099  89.790059  6.938551\n"
     ]
    }
   ],
   "source": [
    "import pandas as pd \n",
    "\n",
    "# Ipython 디스플레이 설정 변경 \n",
    "pd.set_option('display.max_columns', 10)                # 출력할 최대 열의 개수 \n",
    "pd.set_option('display.max_colwidth', 20)               # 출력할 열의 너비\n",
    "pd.set_option('display.unicode.east_asian_width', True) # 유니코드 사용 너비 조정\n",
    "\n",
    "# 주식 데이터를 가져와서 데이터프레임 만들기 \n",
    "df1 = pd.read_excel('./stock price.xlsx')\n",
    "df2 = pd.read_excel('./stock valuation.xlsx')\n",
    "\n",
    "print(df1)\n",
    "print('\\n')\n",
    "print(df2)"
   ]
  },
  {
   "cell_type": "code",
   "execution_count": 5,
   "metadata": {},
   "outputs": [
    {
     "output_type": "stream",
     "name": "stdout",
     "text": [
      "       id    stock_name          value   price          name           eps  \\\n0  130960        CJ E&M   58540.666667   98900        CJ E&M   6301.333333   \n1  139480        이마트  239230.833333  254500        이마트  18268.166667   \n2  145990        삼양사   82750.000000   82000        삼양사   5741.000000   \n3  185750        종근당   40293.666667  100500        종근당   3990.333333   \n4  204210  모두투어리츠    3093.333333    3475  모두투어리츠     85.166667   \n\n      bps        per       pbr  \n0   54068  15.695091  1.829178  \n1  295780  13.931338  0.860437  \n2  108090  14.283226  0.758627  \n3   40684  25.185866  2.470259  \n4    5335  40.802348  0.651359  \n"
     ]
    }
   ],
   "source": [
    "# 데이터프레임 합치기 - 교집합 \n",
    "merge_inner = pd.merge(df1, df2)    \n",
    "print(merge_inner)"
   ]
  },
  {
   "cell_type": "code",
   "execution_count": 7,
   "metadata": {},
   "outputs": [
    {
     "output_type": "stream",
     "name": "stdout",
     "text": [
      "        id    stock_name          value     price              name  \\\n0   128940      한미약품   59385.666667  421000.0               NaN   \n1   130960        CJ E&M   58540.666667   98900.0            CJ E&M   \n2   138250    엔에스쇼핑   14558.666667   13200.0               NaN   \n3   139480        이마트  239230.833333  254500.0            이마트   \n4   142280  녹십자엠에스     468.833333   10200.0               NaN   \n5   145990        삼양사   82750.000000   82000.0            삼양사   \n6   185750        종근당   40293.666667  100500.0            종근당   \n7   192400    쿠쿠홀딩스  179204.666667  177500.0               NaN   \n8   199800          툴젠   -2514.333333  115400.0               NaN   \n9   204210  모두투어리츠    3093.333333    3475.0      모두투어리츠   \n10  136480           NaN            NaN       NaN              하림   \n11  138040           NaN            NaN       NaN    메리츠금융지주   \n12  161390           NaN            NaN       NaN        한국타이어   \n13  181710           NaN            NaN       NaN   NHN엔터테인먼트   \n14  207940           NaN            NaN       NaN  삼성바이오로직스   \n\n             eps       bps        per       pbr  \n0            NaN       NaN        NaN       NaN  \n1    6301.333333   54068.0  15.695091  1.829178  \n2            NaN       NaN        NaN       NaN  \n3   18268.166667  295780.0  13.931338  0.860437  \n4            NaN       NaN        NaN       NaN  \n5    5741.000000  108090.0  14.283226  0.758627  \n6    3990.333333   40684.0  25.185866  2.470259  \n7            NaN       NaN        NaN       NaN  \n8            NaN       NaN        NaN       NaN  \n9      85.166667    5335.0  40.802348  0.651359  \n10    274.166667    3551.0  11.489362  0.887074  \n11   2122.333333   14894.0   6.313806  0.899691  \n12   5648.500000   51341.0   7.453306  0.820007  \n13   2110.166667   78434.0  30.755864  0.827447  \n14   4644.166667   60099.0  89.790059  6.938551  \n"
     ]
    }
   ],
   "source": [
    "# 데이터프레임 합치기 - 합집합 \n",
    "merge_out = pd.merge(df1, df2, how='outer', on='id')\n",
    "print(merge_out)"
   ]
  },
  {
   "cell_type": "code",
   "execution_count": 14,
   "metadata": {},
   "outputs": [
    {
     "output_type": "stream",
     "name": "stdout",
     "text": [
      "     id_x    stock_name          value   price      id_y          name  \\\n0  128940      한미약품   59385.666667  421000       NaN           NaN   \n1  130960        CJ E&M   58540.666667   98900  130960.0        CJ E&M   \n2  138250    엔에스쇼핑   14558.666667   13200       NaN           NaN   \n3  139480        이마트  239230.833333  254500  139480.0        이마트   \n4  142280  녹십자엠에스     468.833333   10200       NaN           NaN   \n5  145990        삼양사   82750.000000   82000  145990.0        삼양사   \n6  185750        종근당   40293.666667  100500  185750.0        종근당   \n7  192400    쿠쿠홀딩스  179204.666667  177500       NaN           NaN   \n8  199800          툴젠   -2514.333333  115400       NaN           NaN   \n9  204210  모두투어리츠    3093.333333    3475  204210.0  모두투어리츠   \n\n            eps       bps        per       pbr  \n0           NaN       NaN        NaN       NaN  \n1   6301.333333   54068.0  15.695091  1.829178  \n2           NaN       NaN        NaN       NaN  \n3  18268.166667  295780.0  13.931338  0.860437  \n4           NaN       NaN        NaN       NaN  \n5   5741.000000  108090.0  14.283226  0.758627  \n6   3990.333333   40684.0  25.185866  2.470259  \n7           NaN       NaN        NaN       NaN  \n8           NaN       NaN        NaN       NaN  \n9     85.166667    5335.0  40.802348  0.651359  \n"
     ]
    }
   ],
   "source": [
    "# 데이터프레임 합치기 - 왼쪽 데이터프레임 기준, 키 값 분리 \n",
    "merge_left = pd.merge(df1, df2, how='left', left_on='stock_name', right_on='name')\n",
    "print(merge_left)"
   ]
  },
  {
   "cell_type": "code",
   "execution_count": 17,
   "metadata": {},
   "outputs": [
    {
     "output_type": "stream",
     "name": "stdout",
     "text": [
      "       id_x    stock_name          value     price    id_y              name  \\\n0  130960.0        CJ E&M   58540.666667   98900.0  130960            CJ E&M   \n1       NaN           NaN            NaN       NaN  136480              하림   \n2       NaN           NaN            NaN       NaN  138040    메리츠금융지주   \n3  139480.0        이마트  239230.833333  254500.0  139480            이마트   \n4  145990.0        삼양사   82750.000000   82000.0  145990            삼양사   \n5       NaN           NaN            NaN       NaN  161390        한국타이어   \n6       NaN           NaN            NaN       NaN  181710   NHN엔터테인먼트   \n7  185750.0        종근당   40293.666667  100500.0  185750            종근당   \n8  204210.0  모두투어리츠    3093.333333    3475.0  204210      모두투어리츠   \n9       NaN           NaN            NaN       NaN  207940  삼성바이오로직스   \n\n            eps     bps        per       pbr  \n0   6301.333333   54068  15.695091  1.829178  \n1    274.166667    3551  11.489362  0.887074  \n2   2122.333333   14894   6.313806  0.899691  \n3  18268.166667  295780  13.931338  0.860437  \n4   5741.000000  108090  14.283226  0.758627  \n5   5648.500000   51341   7.453306  0.820007  \n6   2110.166667   78434  30.755864  0.827447  \n7   3990.333333   40684  25.185866  2.470259  \n8     85.166667    5335  40.802348  0.651359  \n9   4644.166667   60099  89.790059  6.938551  \n"
     ]
    }
   ],
   "source": [
    "# 데이터프레임 합치기 - 오른쪽 데이터프레임 기준, 키 값 분리\n",
    "merge_right = pd.merge(df1, df2, how='right', left_on='stock_name', right_on='name')\n",
    "print(merge_right)\n",
    "# merge_right"
   ]
  },
  {
   "cell_type": "code",
   "execution_count": 21,
   "metadata": {},
   "outputs": [
    {
     "output_type": "stream",
     "name": "stdout",
     "text": [
      "       id    stock_name        value  price\n9  204210  모두투어리츠  3093.333333   3475\n<class 'pandas.core.frame.DataFrame'>\n\n\n       id    stock_name        value  price          name        eps   bps  \\\n0  204210  모두투어리츠  3093.333333   3475  모두투어리츠  85.166667  5335   \n\n         per       pbr  \n0  40.802348  0.651359  \n"
     ]
    }
   ],
   "source": [
    "# 불린 인덱싱과 결합하여 원하는 데이터 찾기 \n",
    "price = df1[df1['price'] < 5000]\n",
    "print(price.head())\n",
    "print(type(price))\n",
    "\n",
    "print('\\n')\n",
    "\n",
    "value = pd.merge(price, df2)\n",
    "print(value)"
   ]
  },
  {
   "cell_type": "code",
   "execution_count": null,
   "metadata": {},
   "outputs": [],
   "source": []
  }
 ]
}