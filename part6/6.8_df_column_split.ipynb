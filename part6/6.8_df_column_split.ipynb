{
 "cells": [
  {
   "cell_type": "code",
   "execution_count": 3,
   "metadata": {},
   "outputs": [
    {
     "output_type": "stream",
     "name": "stdout",
     "text": [
      "         연월일   당일종가  전일종가     시가     고가     저가     거래량\n0 2018-07-02  10100   600  10850  10900  10000  137977\n1 2018-06-29  10700   300  10550  10900   9990  170253\n2 2018-06-28  10400   500  10900  10950  10150  155769\n3 2018-06-27  10900   100  10800  11050  10500  133548\n4 2018-06-26  10800   350  10900  11000  10700   63039\n\n연월일     datetime64[ns]\n당일종가             int64\n전일종가             int64\n시가               int64\n고가               int64\n저가               int64\n거래량              int64\ndtype: object\n"
     ]
    }
   ],
   "source": [
    "import pandas as pd\n",
    "\n",
    "df = pd.read_excel('./주가데이터.xlsx')\n",
    "print(df.head())\n",
    "print()\n",
    "print(df.dtypes)"
   ]
  },
  {
   "cell_type": "code",
   "execution_count": 7,
   "metadata": {},
   "outputs": [
    {
     "output_type": "stream",
     "name": "stdout",
     "text": [
      "0    [2018, 07, 02]\n1    [2018, 06, 29]\n2    [2018, 06, 28]\n3    [2018, 06, 27]\n4    [2018, 06, 26]\nName: 연월일, dtype: object\n"
     ]
    }
   ],
   "source": [
    "# 생략 \n",
    "# 연, 월, 일 데이터 분리하기 \n",
    "\n",
    "df['연월일'] = df['연월일'].astype('str') # 문자열 메소드 사용을 위해 자료형 변경\n",
    "dates = df['연월일'].str.split('-')      # 문자열을 split() 메소드로 분리 \n",
    "print(dates.head())"
   ]
  },
  {
   "cell_type": "code",
   "execution_count": 8,
   "metadata": {},
   "outputs": [
    {
     "output_type": "stream",
     "name": "stdout",
     "text": [
      "          연월일   당일종가  전일종가     시가     고가     저가     거래량     연   월   일\n0  2018-07-02  10100   600  10850  10900  10000  137977  2018  07  02\n1  2018-06-29  10700   300  10550  10900   9990  170253  2018  06  29\n2  2018-06-28  10400   500  10900  10950  10150  155769  2018  06  28\n3  2018-06-27  10900   100  10800  11050  10500  133548  2018  06  27\n4  2018-06-26  10800   350  10900  11000  10700   63039  2018  06  26\n"
     ]
    }
   ],
   "source": [
    "# 분리된 정보를 각각 새로운 열에 담아 df에 추가하기 \n",
    "df['연'] = dates.str.get(0) # dates 변수의 원소 리스트의 0번째 인덱스\n",
    "df['월'] = dates.str.get(1) # dates 변수의 원소 리스트의 1번째 인덱스\n",
    "df['일'] = dates.str.get(2) # dates 변수의 원소 리스트의 2번째 인덱스\n",
    "print(df.head())"
   ]
  },
  {
   "cell_type": "code",
   "execution_count": null,
   "metadata": {},
   "outputs": [],
   "source": []
  },
  {
   "cell_type": "code",
   "execution_count": null,
   "metadata": {},
   "outputs": [],
   "source": []
  }
 ],
 "metadata": {
  "kernelspec": {
   "display_name": "Python 3",
   "language": "python",
   "name": "python3"
  },
  "language_info": {
   "codemirror_mode": {
    "name": "ipython",
    "version": 3
   },
   "file_extension": ".py",
   "mimetype": "text/x-python",
   "name": "python",
   "nbconvert_exporter": "python",
   "pygments_lexer": "ipython3",
   "version": "3.8.6-candidate"
  }
 },
 "nbformat": 4,
 "nbformat_minor": 4
}