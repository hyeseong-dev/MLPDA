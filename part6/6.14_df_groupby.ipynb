{
 "metadata": {
  "language_info": {
   "codemirror_mode": {
    "name": "ipython",
    "version": 3
   },
   "file_extension": ".py",
   "mimetype": "text/x-python",
   "name": "python",
   "nbconvert_exporter": "python",
   "pygments_lexer": "ipython3",
   "version": "3.8.6-candidate"
  },
  "orig_nbformat": 2,
  "kernelspec": {
   "name": "Python 3.8.6 64-bit ('.env': venv)",
   "display_name": "Python 3.8.6 64-bit ('.env': venv)",
   "metadata": {
    "interpreter": {
     "hash": "9e1d73410613cfa3c2c4484a1bf1747399983f3dfcc516eb1e8b1dc4860e5f7a"
    }
   }
  }
 },
 "nbformat": 4,
 "nbformat_minor": 2,
 "cells": [
  {
   "cell_type": "code",
   "execution_count": 2,
   "metadata": {},
   "outputs": [
    {
     "output_type": "stream",
     "name": "stdout",
     "text": [
      "승객 수: 891\n    age     sex  class     fare  survived\n0  22.0    male  Third   7.2500         0\n1  38.0  female  First  71.2833         1\n2  26.0  female  Third   7.9250         1\n3  35.0  female  First  53.1000         1\n4  35.0    male  Third   8.0500         0\n\n\n"
     ]
    },
    {
     "output_type": "execute_result",
     "data": {
      "text/plain": [
       "<pandas.core.groupby.generic.DataFrameGroupBy object at 0x00000219BA276EB0>"
      ]
     },
     "metadata": {},
     "execution_count": 2
    }
   ],
   "source": [
    "import pandas as pd \n",
    "import seaborn as sns \n",
    "\n",
    "titanic = sns.load_dataset('titanic')\n",
    "df = titanic.loc[:, ['age','sex','class','fare','survived']]\n",
    "\n",
    "print('승객 수:', len(df))\n",
    "print(df.head())\n",
    "print('\\n')\n",
    "\n",
    "# class 열을 기준으로 분할 \n",
    "grouped = df.groupby(['class'])\n",
    "grouped"
   ]
  },
  {
   "cell_type": "code",
   "execution_count": 3,
   "metadata": {},
   "outputs": [
    {
     "output_type": "stream",
     "name": "stdout",
     "text": [
      "* key :  First\n* number : 216\n     age     sex  class     fare  survived\n1   38.0  female  First  71.2833         1\n3   35.0  female  First  53.1000         1\n6   54.0    male  First  51.8625         0\n11  58.0  female  First  26.5500         1\n23  28.0    male  First  35.5000         1\n\n\n* key :  Second\n* number : 184\n     age     sex   class     fare  survived\n9   14.0  female  Second  30.0708         1\n15  55.0  female  Second  16.0000         1\n17   NaN    male  Second  13.0000         1\n20  35.0    male  Second  26.0000         0\n21  34.0    male  Second  13.0000         1\n\n\n* key :  Third\n* number : 491\n    age     sex  class     fare  survived\n0  22.0    male  Third   7.2500         0\n2  26.0  female  Third   7.9250         1\n4  35.0    male  Third   8.0500         0\n5   NaN    male  Third   8.4583         0\n7   2.0    male  Third  21.0750         0\n\n\n"
     ]
    }
   ],
   "source": [
    "# 그룹 객체를 iteration으로 출력: head() 메서드로 첫 5행을 출력 \n",
    "for key, group in grouped: \n",
    "    print('* key : ', key)\n",
    "    print('* number :', len(group))\n",
    "    print(group.head())\n",
    "    print('\\n')"
   ]
  },
  {
   "cell_type": "code",
   "execution_count": 5,
   "metadata": {},
   "outputs": [
    {
     "output_type": "stream",
     "name": "stdout",
     "text": [
      "              age       fare  survived\nclass                                 \nFirst   38.233441  84.154687  0.629630\nSecond  29.877630  20.662183  0.472826\nThird   25.140620  13.675550  0.242363\n"
     ]
    }
   ],
   "source": [
    "# 연산 메서드 적용\n",
    "average = grouped.mean()\n",
    "print(average)"
   ]
  },
  {
   "cell_type": "code",
   "execution_count": null,
   "metadata": {},
   "outputs": [],
   "source": []
  }
 ]
}