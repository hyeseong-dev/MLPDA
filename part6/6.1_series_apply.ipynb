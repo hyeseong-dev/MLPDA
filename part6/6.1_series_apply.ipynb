{
 "metadata": {
  "language_info": {
   "codemirror_mode": {
    "name": "ipython",
    "version": 3
   },
   "file_extension": ".py",
   "mimetype": "text/x-python",
   "name": "python",
   "nbconvert_exporter": "python",
   "pygments_lexer": "ipython3",
   "version": "3.8.6-candidate"
  },
  "orig_nbformat": 2,
  "kernelspec": {
   "name": "Python 3.8.6 64-bit ('.env': venv)",
   "display_name": "Python 3.8.6 64-bit ('.env': venv)",
   "metadata": {
    "interpreter": {
     "hash": "9e1d73410613cfa3c2c4484a1bf1747399983f3dfcc516eb1e8b1dc4860e5f7a"
    }
   }
  }
 },
 "nbformat": 4,
 "nbformat_minor": 2,
 "cells": [
  {
   "cell_type": "code",
   "execution_count": 2,
   "metadata": {},
   "outputs": [],
   "source": [
    "import pandas as pd "
   ]
  },
  {
   "cell_type": "code",
   "execution_count": 6,
   "metadata": {},
   "outputs": [
    {
     "output_type": "stream",
     "name": "stdout",
     "text": [
      "    age     fare  ten\n0  22.0   7.2500   10\n1  38.0  71.2833   10\n2  26.0   7.9250   10\n3  35.0  53.1000   10\n4  35.0   8.0500   10\n"
     ]
    }
   ],
   "source": [
    "import seaborn as sns \n",
    "\n",
    "# titanic 데이터셋에서 age, fare 2개 열을 선택하여 데이터프레임 만들기 \n",
    "titanic = sns.load_dataset('titanic')\n",
    "df = titanic.loc[:, ['age','fare']]\n",
    "df['ten'] = 10\n",
    "print(df.head())"
   ]
  },
  {
   "cell_type": "code",
   "execution_count": 9,
   "metadata": {},
   "outputs": [
    {
     "output_type": "stream",
     "name": "stdout",
     "text": [
      "20\n20\n"
     ]
    }
   ],
   "source": [
    "def add_10(n):\n",
    "    return n + 10\n",
    "\n",
    "def add_two_obj(a,b): \n",
    "    return a + b\n",
    "\n",
    "print(add_10(10))\n",
    "print(add_two_obj(10,10))"
   ]
  },
  {
   "cell_type": "code",
   "execution_count": 12,
   "metadata": {},
   "outputs": [
    {
     "output_type": "execute_result",
     "data": {
      "text/plain": [
       "0    22.0\n",
       "1    38.0\n",
       "2    26.0\n",
       "3    35.0\n",
       "4    35.0\n",
       "Name: age, dtype: float64"
      ]
     },
     "metadata": {},
     "execution_count": 12
    }
   ],
   "source": [
    "df['age'].head()"
   ]
  },
  {
   "cell_type": "code",
   "execution_count": 13,
   "metadata": {},
   "outputs": [
    {
     "output_type": "stream",
     "name": "stdout",
     "text": [
      "0    32.0\n1    48.0\n2    36.0\n3    45.0\n4    45.0\nName: age, dtype: float64\n\n\n0    32.0\n1    48.0\n2    36.0\n3    45.0\n4    45.0\nName: age, dtype: float64\n\n\n0    32.0\n1    48.0\n2    36.0\n3    45.0\n4    45.0\nName: age, dtype: float64\n\n\n"
     ]
    }
   ],
   "source": [
    "# 시리즈 객채에 적용\n",
    "sr1 = df['age'].apply(add_10)\n",
    "print(sr1.head())\n",
    "print('\\n')\n",
    "\n",
    "\n",
    "# 시리즈 객채와 숫자에 적용: 2개의 인수(시리즈 + 숫자)\n",
    "sr2 = df['age'].apply(add_two_obj, b=10)\n",
    "print(sr2.head())\n",
    "print('\\n')\n",
    "\n",
    "\n",
    "# lambda 함수 활용: 시리즈 객체에 적용\n",
    "sr3 = df['age'].apply(lambda x: add_10(x)) # x=df['age']\n",
    "print(sr3.head())\n",
    "print('\\n')\n",
    "\n"
   ]
  },
  {
   "cell_type": "code",
   "execution_count": null,
   "metadata": {},
   "outputs": [],
   "source": []
  },
  {
   "cell_type": "code",
   "execution_count": null,
   "metadata": {},
   "outputs": [],
   "source": []
  },
  {
   "cell_type": "code",
   "execution_count": null,
   "metadata": {},
   "outputs": [],
   "source": []
  },
  {
   "cell_type": "code",
   "execution_count": null,
   "metadata": {},
   "outputs": [],
   "source": []
  },
  {
   "cell_type": "code",
   "execution_count": null,
   "metadata": {},
   "outputs": [],
   "source": []
  },
  {
   "cell_type": "code",
   "execution_count": null,
   "metadata": {},
   "outputs": [],
   "source": []
  },
  {
   "cell_type": "code",
   "execution_count": null,
   "metadata": {},
   "outputs": [],
   "source": []
  },
  {
   "cell_type": "code",
   "execution_count": null,
   "metadata": {},
   "outputs": [],
   "source": []
  },
  {
   "cell_type": "code",
   "execution_count": null,
   "metadata": {},
   "outputs": [],
   "source": []
  },
  {
   "cell_type": "code",
   "execution_count": null,
   "metadata": {},
   "outputs": [],
   "source": []
  }
 ]
}