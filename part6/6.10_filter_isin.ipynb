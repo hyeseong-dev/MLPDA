{
 "metadata": {
  "language_info": {
   "codemirror_mode": {
    "name": "ipython",
    "version": 3
   },
   "file_extension": ".py",
   "mimetype": "text/x-python",
   "name": "python",
   "nbconvert_exporter": "python",
   "pygments_lexer": "ipython3",
   "version": "3.8.6-candidate"
  },
  "orig_nbformat": 2,
  "kernelspec": {
   "name": "Python 3.8.6 64-bit ('.env': venv)",
   "display_name": "Python 3.8.6 64-bit ('.env': venv)",
   "metadata": {
    "interpreter": {
     "hash": "9e1d73410613cfa3c2c4484a1bf1747399983f3dfcc516eb1e8b1dc4860e5f7a"
    }
   }
  }
 },
 "nbformat": 4,
 "nbformat_minor": 2,
 "cells": [
  {
   "cell_type": "code",
   "execution_count": 3,
   "metadata": {},
   "outputs": [
    {
     "output_type": "stream",
     "name": "stdout",
     "text": [
      "    survived  pclass     sex   age  sibsp  ...  adult_male  deck  embark_town  \\\n7          0       3    male   2.0      3  ...       False   NaN  Southampton   \n16         0       3    male   2.0      4  ...       False   NaN   Queenstown   \n24         0       3  female   8.0      3  ...       False   NaN  Southampton   \n27         0       1    male  19.0      3  ...        True     C  Southampton   \n50         0       3    male   7.0      4  ...       False   NaN  Southampton   \n\n   alive  alone  \n7     no  False  \n16    no  False  \n24    no  False  \n27    no  False  \n50    no  False  \n\n[5 rows x 15 columns]\n"
     ]
    }
   ],
   "source": [
    "import seaborn as sns \n",
    "import pandas as pd \n",
    "\n",
    "# titanic 데이터셋 로딩 \n",
    "titanic = sns.load_dataset('titanic')\n",
    "\n",
    "# IPython 디스플레이 설정 변경 - 출력할 최대 열의 개수 \n",
    "pd.set_option('display.max_columns', 10)            # 출력할 열의 개수 한도\n",
    "\n",
    "# 함께 탑승한 형제 또는 배우자의 수가 3, 4, 5인 승객만 따로 추출 - 불린 인덱싱\n",
    "mask3 = titanic['sibsp'] == 3\n",
    "mask4 = titanic['sibsp'] == 4\n",
    "mask5 = titanic['sibsp'] == 4\n",
    "df_boolean = titanic[mask3 | mask4 | mask5]\n",
    "print(df_boolean.head())\n",
    "# df_boolean.head()"
   ]
  },
  {
   "cell_type": "code",
   "execution_count": null,
   "metadata": {},
   "outputs": [],
   "source": []
  }
 ]
}