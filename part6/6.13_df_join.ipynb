{
 "metadata": {
  "language_info": {
   "codemirror_mode": {
    "name": "ipython",
    "version": 3
   },
   "file_extension": ".py",
   "mimetype": "text/x-python",
   "name": "python",
   "nbconvert_exporter": "python",
   "pygments_lexer": "ipython3",
   "version": "3.8.6-candidate"
  },
  "orig_nbformat": 2,
  "kernelspec": {
   "name": "Python 3.8.6 64-bit ('.env': venv)",
   "display_name": "Python 3.8.6 64-bit ('.env': venv)",
   "metadata": {
    "interpreter": {
     "hash": "9e1d73410613cfa3c2c4484a1bf1747399983f3dfcc516eb1e8b1dc4860e5f7a"
    }
   }
  }
 },
 "nbformat": 4,
 "nbformat_minor": 2,
 "cells": [
  {
   "cell_type": "code",
   "execution_count": 2,
   "metadata": {},
   "outputs": [
    {
     "output_type": "stream",
     "name": "stdout",
     "text": [
      "          stock_name          value   price          name           eps  \\\nid                                                                        \n128940      한미약품   59385.666667  421000           NaN           NaN   \n130960        CJ E&M   58540.666667   98900        CJ E&M   6301.333333   \n138250    엔에스쇼핑   14558.666667   13200           NaN           NaN   \n139480        이마트  239230.833333  254500        이마트  18268.166667   \n142280  녹십자엠에스     468.833333   10200           NaN           NaN   \n145990        삼양사   82750.000000   82000        삼양사   5741.000000   \n185750        종근당   40293.666667  100500        종근당   3990.333333   \n192400    쿠쿠홀딩스  179204.666667  177500           NaN           NaN   \n199800          툴젠   -2514.333333  115400           NaN           NaN   \n204210  모두투어리츠    3093.333333    3475  모두투어리츠     85.166667   \n\n             bps        per       pbr  \nid                                     \n128940       NaN        NaN       NaN  \n130960   54068.0  15.695091  1.829178  \n138250       NaN        NaN       NaN  \n139480  295780.0  13.931338  0.860437  \n142280       NaN        NaN       NaN  \n145990  108090.0  14.283226  0.758627  \n185750   40684.0  25.185866  2.470259  \n192400       NaN        NaN       NaN  \n199800       NaN        NaN       NaN  \n204210    5335.0  40.802348  0.651359  \n"
     ]
    }
   ],
   "source": [
    "import pandas as pd \n",
    "\n",
    "pd.set_option('display.max_columns',10)                 # 출력할 최대 열의 개수 \n",
    "pd.set_option('display.max_colwidth',20)                # 출력할 열의 너비\n",
    "pd.set_option('display.unicode.east_asian_width', True) # 유니코드의 사용 너비 조정\n",
    "\n",
    "# 주식 데이터를 가져와서 데이터프레임 만들기 \n",
    "df1 = pd.read_excel('./stock price.xlsx', index_col='id')\n",
    "df2 = pd.read_excel('./stock valuation.xlsx', index_col='id')\n",
    "\n",
    "# 데이터 프레임 결합 \n",
    "df3 = df1.join(df2)\n",
    "print(df3)"
   ]
  },
  {
   "cell_type": "code",
   "execution_count": 3,
   "metadata": {},
   "outputs": [
    {
     "output_type": "stream",
     "name": "stdout",
     "text": [
      "          stock_name          value   price          name           eps  \\\nid                                                                        \n130960        CJ E&M   58540.666667   98900        CJ E&M   6301.333333   \n139480        이마트  239230.833333  254500        이마트  18268.166667   \n145990        삼양사   82750.000000   82000        삼양사   5741.000000   \n185750        종근당   40293.666667  100500        종근당   3990.333333   \n204210  모두투어리츠    3093.333333    3475  모두투어리츠     85.166667   \n\n           bps        per       pbr  \nid                                   \n130960   54068  15.695091  1.829178  \n139480  295780  13.931338  0.860437  \n145990  108090  14.283226  0.758627  \n185750   40684  25.185866  2.470259  \n204210    5335  40.802348  0.651359  \n"
     ]
    }
   ],
   "source": [
    "# 데이터프레임 결합(join) - 교집합\n",
    "\n",
    "df4 = df1.join(df2, how='inner')\n",
    "print(df4)"
   ]
  },
  {
   "cell_type": "code",
   "execution_count": null,
   "metadata": {},
   "outputs": [],
   "source": []
  }
 ]
}