{
 "metadata": {
  "language_info": {
   "codemirror_mode": {
    "name": "ipython",
    "version": 3
   },
   "file_extension": ".py",
   "mimetype": "text/x-python",
   "name": "python",
   "nbconvert_exporter": "python",
   "pygments_lexer": "ipython3",
   "version": "3.8.6-candidate"
  },
  "orig_nbformat": 2,
  "kernelspec": {
   "name": "Python 3.8.6 64-bit ('.env': venv)",
   "display_name": "Python 3.8.6 64-bit ('.env': venv)",
   "metadata": {
    "interpreter": {
     "hash": "9e1d73410613cfa3c2c4484a1bf1747399983f3dfcc516eb1e8b1dc4860e5f7a"
    }
   }
  }
 },
 "nbformat": 4,
 "nbformat_minor": 2,
 "cells": [
  {
   "cell_type": "code",
   "execution_count": 1,
   "metadata": {},
   "outputs": [
    {
     "output_type": "stream",
     "name": "stdout",
     "text": [
      "    age     fare\n0  22.0   7.2500\n1  38.0  71.2833\n2  26.0   7.9250\n3  35.0  53.1000\n4  35.0   8.0500\n"
     ]
    }
   ],
   "source": [
    "import seaborn as sns \n",
    "\n",
    "# titanic 데이터셋에서 age, fare 2개의 열을 선택하여 데이터프레임 만들기 \n",
    "titanic = sns.load_dataset('titanic')\n",
    "df = titanic.loc[:, ['age','fare']]\n",
    "print(df.head()) "
   ]
  },
  {
   "cell_type": "code",
   "execution_count": 2,
   "metadata": {},
   "outputs": [
    {
     "output_type": "stream",
     "name": "stdout",
     "text": [
      "    age     fare\n0  32.0  17.2500\n1  48.0  81.2833\n2  36.0  17.9250\n3  45.0  63.1000\n4  45.0  18.0500\n"
     ]
    }
   ],
   "source": [
    "# 사용자 함수 정의 \n",
    "def add_10(n): \n",
    "    return n + 10\n",
    "\n",
    "\n",
    "# 데이터프레임에 applymap()으로 add_10() 함수를 매핑 적용 \n",
    "df_map = df.applymap(add_10) \n",
    "print(df_map.head())"
   ]
  },
  {
   "cell_type": "code",
   "execution_count": null,
   "metadata": {},
   "outputs": [],
   "source": []
  }
 ]
}