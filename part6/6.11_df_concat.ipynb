{
 "metadata": {
  "language_info": {
   "codemirror_mode": {
    "name": "ipython",
    "version": 3
   },
   "file_extension": ".py",
   "mimetype": "text/x-python",
   "name": "python",
   "nbconvert_exporter": "python",
   "pygments_lexer": "ipython3",
   "version": "3.8.6-candidate"
  },
  "orig_nbformat": 2,
  "kernelspec": {
   "name": "Python 3.8.6 64-bit ('.env': venv)",
   "display_name": "Python 3.8.6 64-bit ('.env': venv)",
   "metadata": {
    "interpreter": {
     "hash": "9e1d73410613cfa3c2c4484a1bf1747399983f3dfcc516eb1e8b1dc4860e5f7a"
    }
   }
  }
 },
 "nbformat": 4,
 "nbformat_minor": 2,
 "cells": [
  {
   "cell_type": "code",
   "execution_count": 4,
   "metadata": {},
   "outputs": [
    {
     "output_type": "stream",
     "name": "stdout",
     "text": [
      "    a   b   c\n0  a0  b0  c0\n1  a1  b1  c1\n2  a2  b2  c2\n3  a3  b3  c3\n\n    a   b   c   d\n2  a2  b2  c2  d2\n3  a3  b3  c3  d3\n4  a4  b4  c4  d4\n5  a3  b3  c3  d3\n\n    a   b   c    d\n0  a0  b0  c0  NaN\n1  a1  b1  c1  NaN\n2  a2  b2  c2  NaN\n3  a3  b3  c3  NaN\n2  a2  b2  c2   d2\n3  a3  b3  c3   d3\n4  a4  b4  c4   d4\n5  a3  b3  c3   d3\n"
     ]
    }
   ],
   "source": [
    "import pandas as pd\n",
    "\n",
    "# 데이터프레임 만들기 \n",
    "df1 = pd.DataFrame({\n",
    "                    'a': ['a0','a1','a2','a3'],\n",
    "                    'b': ['b0','b1','b2','b3'],\n",
    "                    'c': ['c0','c1','c2','c3']},\n",
    "                    index=[0,1,2,3])\n",
    "\n",
    "df2 = pd.DataFrame({\n",
    "                    'a': ['a2','a3','a4','a3'],\n",
    "                    'b': ['b2','b3','b4','b3'],\n",
    "                    'c': ['c2','c3','c4','c3'],\n",
    "                    'd': ['d2','d3','d4','d3']},\n",
    "                    index=[2,3,4,5])\n",
    "print(df1)\n",
    "print()\n",
    "print(df2)\n",
    "print()\n",
    "\n",
    "# 2개의 데이터프레임을 위 아래 행 방향으로 이어 붙이듯 연결\n",
    "result1 = pd.concat([df1, df2])\n",
    "print(result1)"
   ]
  },
  {
   "cell_type": "code",
   "execution_count": 5,
   "metadata": {},
   "outputs": [
    {
     "output_type": "stream",
     "name": "stdout",
     "text": [
      "    a   b   c    d\n0  a0  b0  c0  NaN\n1  a1  b1  c1  NaN\n2  a2  b2  c2  NaN\n3  a3  b3  c3  NaN\n4  a2  b2  c2   d2\n5  a3  b3  c3   d3\n6  a4  b4  c4   d4\n7  a3  b3  c3   d3\n"
     ]
    }
   ],
   "source": [
    "# ignore_index=True 옵션 설정\n",
    "result2 = pd.concat([df1, df2], ignore_index=True)\n",
    "print(result2)"
   ]
  },
  {
   "cell_type": "code",
   "execution_count": null,
   "metadata": {},
   "outputs": [],
   "source": []
  }
 ]
}