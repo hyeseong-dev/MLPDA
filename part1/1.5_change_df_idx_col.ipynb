{
 "cells": [
  {
   "cell_type": "code",
   "execution_count": 1,
   "metadata": {},
   "outputs": [],
   "source": [
    "import pandas as pd"
   ]
  },
  {
   "cell_type": "code",
   "execution_count": 2,
   "metadata": {},
   "outputs": [
    {
     "name": "stdout",
     "output_type": "stream",
     "text": [
      "    나이      성별                학교\n",
      "준서  15    male  DuckYoung Middle\n",
      "예은  17  female       SuRi Middle\n",
      "\n",
      "Index(['준서', '예은'], dtype='object')\n",
      "\n",
      "Index(['나이', '성별', '학교'], dtype='object')\n"
     ]
    }
   ],
   "source": [
    "# 행 인덱스/ 열 이름 지정하여 데이터 프레임 만들기 \n",
    "df = pd.DataFrame([[15, 'male', 'DuckYoung Middle'],\n",
    "                   [17, 'female', 'SuRi Middle']],\n",
    "                    index=['준서', '예은'],\n",
    "                    columns=['나이', '성별', '학교']\n",
    "                 )\n",
    "\n",
    "# 행 인덱스, 열 이름 확인하기 \n",
    "print(df)\n",
    "print()\n",
    "print(df.index)\n",
    "print()\n",
    "print(df.columns)"
   ]
  },
  {
   "cell_type": "markdown",
   "metadata": {},
   "source": [
    "### 행인덱스와 열 이름 변경   \n",
    "\n",
    "*방법1* : 단, 동일한 사이즈대로 모두 입력해야함. 하나만 바꾸고 싶다고 하나만 입력하는 것이 아니라 기존의 내용과 동일한 것도 동일하게 length를 유지하여 입력해야함.\n",
    "\n",
    "- 행 인덱스 변경: DataFrame 객체.index = 새로운 행 인덱스의 배열   \n",
    "- 열 이름 변경: DataFrame 객체.columns = 새로운 열 이름 배열   \n",
    "   \n"
   ]
  },
  {
   "cell_type": "code",
   "execution_count": 10,
   "metadata": {},
   "outputs": [
    {
     "name": "stdout",
     "output_type": "stream",
     "text": [
      "     연령      남녀                소속\n",
      "학생1  15    male  DuckYoung Middle\n",
      "학생2  17  female       SuRi Middle\n",
      "n\n",
      "Index(['학생1', '학생2'], dtype='object')\n",
      "n\n",
      "Index(['연령', '남녀', '소속'], dtype='object')\n"
     ]
    }
   ],
   "source": [
    "df.index=['학생1', '학생2']\n",
    "df.columns=['연령', '남녀', '소속']\n",
    "\n",
    "print(df) # 데이터 프레임\n",
    "print('n')\n",
    "print(df.index) # 행 인덱스 \n",
    "print('n')\n",
    "print(df.columns) # 열 이름"
   ]
  },
  {
   "cell_type": "code",
   "execution_count": 8,
   "metadata": {},
   "outputs": [
    {
     "data": {
      "text/html": [
       "<style  type=\"text/css\" >\n",
       "#T_99c8e882_08ac_11eb_99a7_00c2c6dfcbe4row0_col0,#T_99c8e882_08ac_11eb_99a7_00c2c6dfcbe4row0_col1,#T_99c8e882_08ac_11eb_99a7_00c2c6dfcbe4row0_col2,#T_99c8e882_08ac_11eb_99a7_00c2c6dfcbe4row1_col0,#T_99c8e882_08ac_11eb_99a7_00c2c6dfcbe4row1_col1,#T_99c8e882_08ac_11eb_99a7_00c2c6dfcbe4row1_col2{\n",
       "            text-align:  right;\n",
       "        }</style><table id=\"T_99c8e882_08ac_11eb_99a7_00c2c6dfcbe4\" ><thead>    <tr>        <th class=\"blank level0\" ></th>        <th class=\"col_heading level0 col0\" >연령</th>        <th class=\"col_heading level0 col1\" >남녀</th>        <th class=\"col_heading level0 col2\" >소속</th>    </tr></thead><tbody>\n",
       "                <tr>\n",
       "                        <th id=\"T_99c8e882_08ac_11eb_99a7_00c2c6dfcbe4level0_row0\" class=\"row_heading level0 row0\" >학생1</th>\n",
       "                        <td id=\"T_99c8e882_08ac_11eb_99a7_00c2c6dfcbe4row0_col0\" class=\"data row0 col0\" >15</td>\n",
       "                        <td id=\"T_99c8e882_08ac_11eb_99a7_00c2c6dfcbe4row0_col1\" class=\"data row0 col1\" >male</td>\n",
       "                        <td id=\"T_99c8e882_08ac_11eb_99a7_00c2c6dfcbe4row0_col2\" class=\"data row0 col2\" >DuckYoung Middle</td>\n",
       "            </tr>\n",
       "            <tr>\n",
       "                        <th id=\"T_99c8e882_08ac_11eb_99a7_00c2c6dfcbe4level0_row1\" class=\"row_heading level0 row1\" >학생2</th>\n",
       "                        <td id=\"T_99c8e882_08ac_11eb_99a7_00c2c6dfcbe4row1_col0\" class=\"data row1 col0\" >17</td>\n",
       "                        <td id=\"T_99c8e882_08ac_11eb_99a7_00c2c6dfcbe4row1_col1\" class=\"data row1 col1\" >female</td>\n",
       "                        <td id=\"T_99c8e882_08ac_11eb_99a7_00c2c6dfcbe4row1_col2\" class=\"data row1 col2\" >SuRi Middle</td>\n",
       "            </tr>\n",
       "    </tbody></table>"
      ],
      "text/plain": [
       "<pandas.io.formats.style.Styler at 0x1ed97ed41f0>"
      ]
     },
     "execution_count": 8,
     "metadata": {},
     "output_type": "execute_result"
    }
   ],
   "source": [
    "# records 안의 좌우 정렬 하기.   \n",
    "df.style.set_properties(**{'text-align': 'right'})"
   ]
  },
  {
   "cell_type": "markdown",
   "metadata": {},
   "source": [
    "### 행인덱스와 열 이름 변경   \n",
    "\n",
    "*방법2* : 원본 객체를 수정하는 것이 아닌 새로운 데이터프레임 객체를 반환함!\n",
    "\n",
    "- 행 인덱스 변경: DataFrame 객체.rename(index={기존 인덱스: 새 인덱스, ...})\n",
    "- 열 이름 변경: DataFrame 객체.rename(columns={기존 이름: 새 이름, ...})"
   ]
  },
  {
   "cell_type": "code",
   "execution_count": 12,
   "metadata": {},
   "outputs": [
    {
     "name": "stdout",
     "output_type": "stream",
     "text": [
      "    나이      성별                학교\n",
      "준서  15    male  DuckYoung Middle\n",
      "예은  17  female       SuRi Middle\n",
      "\n",
      "\n"
     ]
    }
   ],
   "source": [
    "# 행 인덱스/ 열 이름 지정하여 데이터 프레임 만들기 \n",
    "df = pd.DataFrame([[15, 'male', 'DuckYoung Middle'],\n",
    "                   [17, 'female', 'SuRi Middle']],\n",
    "                    index=['준서', '예은'],\n",
    "                    columns=['나이', '성별', '학교']\n",
    "                 )\n",
    "\n",
    "# 행 인덱스, 열 이름 확인하기 \n",
    "print(df)\n",
    "print('\\n')"
   ]
  },
  {
   "cell_type": "code",
   "execution_count": 14,
   "metadata": {},
   "outputs": [
    {
     "data": {
      "text/html": [
       "<div>\n",
       "<style scoped>\n",
       "    .dataframe tbody tr th:only-of-type {\n",
       "        vertical-align: middle;\n",
       "    }\n",
       "\n",
       "    .dataframe tbody tr th {\n",
       "        vertical-align: top;\n",
       "    }\n",
       "\n",
       "    .dataframe thead th {\n",
       "        text-align: right;\n",
       "    }\n",
       "</style>\n",
       "<table border=\"1\" class=\"dataframe\">\n",
       "  <thead>\n",
       "    <tr style=\"text-align: right;\">\n",
       "      <th></th>\n",
       "      <th>연령</th>\n",
       "      <th>남녀</th>\n",
       "      <th>학교</th>\n",
       "    </tr>\n",
       "  </thead>\n",
       "  <tbody>\n",
       "    <tr>\n",
       "      <th>학생1</th>\n",
       "      <td>15</td>\n",
       "      <td>male</td>\n",
       "      <td>DuckYoung Middle</td>\n",
       "    </tr>\n",
       "    <tr>\n",
       "      <th>예은</th>\n",
       "      <td>17</td>\n",
       "      <td>female</td>\n",
       "      <td>SuRi Middle</td>\n",
       "    </tr>\n",
       "  </tbody>\n",
       "</table>\n",
       "</div>"
      ],
      "text/plain": [
       "     연령      남녀                학교\n",
       "학생1  15    male  DuckYoung Middle\n",
       "예은   17  female       SuRi Middle"
      ]
     },
     "execution_count": 14,
     "metadata": {},
     "output_type": "execute_result"
    }
   ],
   "source": [
    "# 열 이름 3개중 2개만 바꿈\n",
    "df.rename(columns={'나이':'연령', '성별':'남녀'}, inplace=True)\n",
    "\n",
    "\n",
    "# 행 이름 2개중 1개만 바꿈\n",
    "df.rename(index={'준서':'학생1'}, inplace=True)\n",
    "\n",
    "df"
   ]
  },
  {
   "cell_type": "markdown",
   "metadata": {},
   "source": [
    "### row/col(행열)삭제   \n",
    "   \n",
    "drop() 메서드 사용. 행을 삭제할 때는 축(axis) 옵션으로 axis=0을 입력하거나, 별도로 입력하지 않음. 반면, 축 옵션으로 axis=1을 입력하면 열을 삭제함.    \n",
    "> *동시에 여러 개의 행 또는 열을 삭제하려면 리스트 형태*로 입력한다.    \n",
    "\n",
    "drop()메소드는 기존 객체를 변경하지 않고 새로운 객체를 반환하는 점!   \n",
    "원본 객체를 직접 변경하기 위해서는 *inplce=True* 옵션을 추가해준다.   \n",
    "   \n",
    "> - 행 삭제: DataFrame 객체.drop(행 인덱스 또는 배열, axis=0)\n",
    "> - 열 삭제: DataFrame 객체.drop(열 인덱스 또는 배열, axis=1) "
   ]
  },
  {
   "cell_type": "code",
   "execution_count": null,
   "metadata": {},
   "outputs": [],
   "source": []
  },
  {
   "cell_type": "code",
   "execution_count": null,
   "metadata": {},
   "outputs": [],
   "source": []
  },
  {
   "cell_type": "code",
   "execution_count": null,
   "metadata": {},
   "outputs": [],
   "source": []
  },
  {
   "cell_type": "code",
   "execution_count": null,
   "metadata": {},
   "outputs": [],
   "source": []
  },
  {
   "cell_type": "code",
   "execution_count": null,
   "metadata": {},
   "outputs": [],
   "source": []
  },
  {
   "cell_type": "code",
   "execution_count": null,
   "metadata": {},
   "outputs": [],
   "source": []
  },
  {
   "cell_type": "code",
   "execution_count": null,
   "metadata": {},
   "outputs": [],
   "source": []
  },
  {
   "cell_type": "code",
   "execution_count": null,
   "metadata": {},
   "outputs": [],
   "source": []
  },
  {
   "cell_type": "code",
   "execution_count": null,
   "metadata": {},
   "outputs": [],
   "source": []
  },
  {
   "cell_type": "code",
   "execution_count": null,
   "metadata": {},
   "outputs": [],
   "source": []
  }
 ],
 "metadata": {
  "kernelspec": {
   "display_name": "Python 3",
   "language": "python",
   "name": "python3"
  },
  "language_info": {
   "codemirror_mode": {
    "name": "ipython",
    "version": 3
   },
   "file_extension": ".py",
   "mimetype": "text/x-python",
   "name": "python",
   "nbconvert_exporter": "python",
   "pygments_lexer": "ipython3",
   "version": "3.8.2"
  }
 },
 "nbformat": 4,
 "nbformat_minor": 4
}
