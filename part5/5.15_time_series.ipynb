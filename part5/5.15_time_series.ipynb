{
 "metadata": {
  "language_info": {
   "codemirror_mode": {
    "name": "ipython",
    "version": 3
   },
   "file_extension": ".py",
   "mimetype": "text/x-python",
   "name": "python",
   "nbconvert_exporter": "python",
   "pygments_lexer": "ipython3",
   "version": "3.9.0-final"
  },
  "orig_nbformat": 2,
  "kernelspec": {
   "name": "Python 3.9.0 64-bit",
   "display_name": "Python 3.9.0 64-bit",
   "metadata": {
    "interpreter": {
     "hash": "fdd9659f4dcbd62ccf028b4e1378302f36c30bb00f61316be6e902f658fc72d5"
    }
   }
  }
 },
 "nbformat": 4,
 "nbformat_minor": 2,
 "cells": [
  {
   "source": [
    "import pandas as pd \n",
    "\n",
    "df = pd.read_csv('./stock-data.csv')\n",
    "\n",
    "print(df.head())"
   ],
   "cell_type": "code",
   "metadata": {},
   "execution_count": 1,
   "outputs": [
    {
     "output_type": "stream",
     "name": "stdout",
     "text": [
      "         Date  Close  Start   High    Low  Volume\n0  2018-07-02  10100  10850  10900  10000  137977\n1  2018-06-29  10700  10550  10900   9990  170253\n2  2018-06-28  10400  10900  10950  10150  155769\n3  2018-06-27  10900  10800  11050  10500  133548\n4  2018-06-26  10800  10900  11000  10700   63039\n"
     ]
    }
   ]
  },
  {
   "source": [
    "df.info()"
   ],
   "cell_type": "code",
   "metadata": {},
   "execution_count": 6,
   "outputs": [
    {
     "output_type": "stream",
     "name": "stdout",
     "text": [
      "<class 'pandas.core.frame.DataFrame'>\nRangeIndex: 20 entries, 0 to 19\nData columns (total 6 columns):\n #   Column  Non-Null Count  Dtype \n---  ------  --------------  ----- \n 0   Date    20 non-null     object\n 1   Close   20 non-null     int64 \n 2   Start   20 non-null     int64 \n 3   High    20 non-null     int64 \n 4   Low     20 non-null     int64 \n 5   Volume  20 non-null     int64 \ndtypes: int64(5), object(1)\nmemory usage: 1.1+ KB\n"
     ]
    }
   ]
  },
  {
   "cell_type": "code",
   "execution_count": 5,
   "metadata": {},
   "outputs": [
    {
     "output_type": "stream",
     "name": "stdout",
     "text": [
      "         Date  Close  Start   High    Low  Volume   new_Date\n0  2018-07-02  10100  10850  10900  10000  137977 2018-07-02\n1  2018-06-29  10700  10550  10900   9990  170253 2018-06-29\n2  2018-06-28  10400  10900  10950  10150  155769 2018-06-28\n3  2018-06-27  10900  10800  11050  10500  133548 2018-06-27\n4  2018-06-26  10800  10900  11000  10700   63039 2018-06-26\n\n\n\n\n<class 'pandas.core.frame.DataFrame'>\nRangeIndex: 20 entries, 0 to 19\nData columns (total 7 columns):\n #   Column    Non-Null Count  Dtype         \n---  ------    --------------  -----         \n 0   Date      20 non-null     object        \n 1   Close     20 non-null     int64         \n 2   Start     20 non-null     int64         \n 3   High      20 non-null     int64         \n 4   Low       20 non-null     int64         \n 5   Volume    20 non-null     int64         \n 6   new_Date  20 non-null     datetime64[ns]\ndtypes: datetime64[ns](1), int64(5), object(1)\nmemory usage: 1.2+ KB\nNone\n\n\n\n\n<class 'pandas._libs.tslibs.timestamps.Timestamp'>\n"
     ]
    }
   ],
   "source": [
    "import pandas as pd \n",
    "\n",
    "df = pd.read_csv('./stock-data.csv')\n",
    "df['new_Date'] = pd.to_datetime(df['Date'])\n",
    "\n",
    "print(df.head())\n",
    "print('\\n')\n",
    "print('\\n')\n",
    "\n",
    "print(df.info())\n",
    "print('\\n')\n",
    "print('\\n')\n",
    "\n",
    "print(type(df['new_Date'][0]))\n"
   ]
  },
  {
   "cell_type": "code",
   "execution_count": null,
   "metadata": {},
   "outputs": [],
   "source": []
  }
 ]
}