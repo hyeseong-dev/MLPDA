{
 "metadata": {
  "language_info": {
   "codemirror_mode": {
    "name": "ipython",
    "version": 3
   },
   "file_extension": ".py",
   "mimetype": "text/x-python",
   "name": "python",
   "nbconvert_exporter": "python",
   "pygments_lexer": "ipython3",
   "version": "3.9.0-final"
  },
  "orig_nbformat": 2,
  "kernelspec": {
   "name": "Python 3.9.0 64-bit",
   "display_name": "Python 3.9.0 64-bit",
   "metadata": {
    "interpreter": {
     "hash": "fdd9659f4dcbd62ccf028b4e1378302f36c30bb00f61316be6e902f658fc72d5"
    }
   }
  }
 },
 "nbformat": 4,
 "nbformat_minor": 2,
 "cells": [
  {
   "cell_type": "code",
   "execution_count": 2,
   "metadata": {},
   "outputs": [
    {
     "output_type": "stream",
     "name": "stdout",
     "text": [
      "DatetimeIndex(['2019-01-01 00:00:00+09:00', '2019-02-01 00:00:00+09:00',\n               '2019-03-01 00:00:00+09:00', '2019-04-01 00:00:00+09:00',\n               '2019-05-01 00:00:00+09:00', '2019-06-01 00:00:00+09:00'],\n              dtype='datetime64[ns, Asia/Seoul]', freq='MS')\n"
     ]
    }
   ],
   "source": [
    "import pandas as pd \n",
    "\n",
    "# Timestamp의 배열 만들기 - 월 간격, 월의 시작일 기준\n",
    "ts_ms = pd.date_range(start='2019-01-01', # 날짜 범위 시작\n",
    "                      end=None,           # 날짜 범위 끝\n",
    "                      periods=6,          # 생성할 Timestamp 개수\n",
    "                      freq='MS',          # 시간 간격(MS:월의시작일)\n",
    "                      tz='Asia/Seoul')    # 시간대(Timezone)\n",
    "print(ts_ms)"
   ]
  },
  {
   "cell_type": "code",
   "execution_count": 9,
   "metadata": {},
   "outputs": [
    {
     "output_type": "stream",
     "name": "stdout",
     "text": [
      "DatetimeIndex(['2019-01-31 00:00:00+09:00', '2019-02-28 00:00:00+09:00',\n               '2019-03-31 00:00:00+09:00', '2019-04-30 00:00:00+09:00',\n               '2019-05-31 00:00:00+09:00', '2019-06-30 00:00:00+09:00'],\n              dtype='datetime64[ns, Asia/Seoul]', freq='M')\n\n\nDatetimeIndex(['2019-01-31 00:00:00+09:00', '2019-04-30 00:00:00+09:00',\n               '2019-07-31 00:00:00+09:00', '2019-10-31 00:00:00+09:00',\n               '2020-01-31 00:00:00+09:00', '2020-04-30 00:00:00+09:00'],\n              dtype='datetime64[ns, Asia/Seoul]', freq='3M')\n"
     ]
    }
   ],
   "source": [
    "# ~~~ 생략 ~~~\n",
    "# 월 간격, 월의 마지막 날 기준\n",
    "\n",
    "ts_me = pd.date_range('2019-01-01', periods=6,\n",
    "                        freq='M',           #시간간격(M:월 마지막날)\n",
    "                        tz='Asia/Seoul')    # 시간대(타임존)\n",
    "\n",
    "print(ts_me)\n",
    "print('\\n')\n",
    "\n",
    "# 분기(3개월) 간격, 월의 마지막 날 기준 \n",
    "ts_3m = pd.date_range('2019-01-01', periods=6, \n",
    "                       freq='3M',        # 시간간격(3M: 3개월)\n",
    "                        tz='Asia/Seoul') \n",
    "print(ts_3m)"
   ]
  },
  {
   "cell_type": "code",
   "execution_count": null,
   "metadata": {},
   "outputs": [],
   "source": []
  }
 ]
}