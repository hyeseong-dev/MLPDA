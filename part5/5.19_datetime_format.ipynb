{
 "metadata": {
  "language_info": {
   "codemirror_mode": {
    "name": "ipython",
    "version": 3
   },
   "file_extension": ".py",
   "mimetype": "text/x-python",
   "name": "python",
   "nbconvert_exporter": "python",
   "pygments_lexer": "ipython3",
   "version": "3.9.0-final"
  },
  "orig_nbformat": 2,
  "kernelspec": {
   "name": "Python 3.9.0 64-bit",
   "display_name": "Python 3.9.0 64-bit",
   "metadata": {
    "interpreter": {
     "hash": "fdd9659f4dcbd62ccf028b4e1378302f36c30bb00f61316be6e902f658fc72d5"
    }
   }
  }
 },
 "nbformat": 4,
 "nbformat_minor": 2,
 "cells": [
  {
   "cell_type": "code",
   "execution_count": 4,
   "metadata": {},
   "outputs": [
    {
     "output_type": "stream",
     "name": "stdout",
     "text": [
      "         Date  Close  Start   High    Low  Volume   new_Date\n0  2018-07-02  10100  10850  10900  10000  137977 2018-07-02\n1  2018-06-29  10700  10550  10900   9990  170253 2018-06-29\n2  2018-06-28  10400  10900  10950  10150  155769 2018-06-28\n3  2018-06-27  10900  10800  11050  10500  133548 2018-06-27\n4  2018-06-26  10800  10900  11000  10700   63039 2018-06-26\n\n\n         Date  Close  Start   High    Low  Volume   new_Date  Year  Month  Day\n0  2018-07-02  10100  10850  10900  10000  137977 2018-07-02  2018      7    2\n1  2018-06-29  10700  10550  10900   9990  170253 2018-06-29  2018      6   29\n2  2018-06-28  10400  10900  10950  10150  155769 2018-06-28  2018      6   28\n3  2018-06-27  10900  10800  11050  10500  133548 2018-06-27  2018      6   27\n4  2018-06-26  10800  10900  11000  10700   63039 2018-06-26  2018      6   26\n"
     ]
    }
   ],
   "source": [
    "import pandas as pd \n",
    "\n",
    "df = pd.read_csv('./stock-data.csv')\n",
    "\n",
    "# 문자열인 날짜 데이터를 판다스 Timestamp로 변환\n",
    "df['new_Date'] = pd.to_datetime(df['Date']) # df에 새로운 열 추가 \n",
    "print(df.head())\n",
    "print('\\n')\n",
    "\n",
    "\n",
    "# dt 속성을 이용하여 new_Date 열의 연-월-일 정보를 년,월,일로 구분\n",
    "df['Year'] = df['new_Date'].dt.year  \n",
    "df['Month'] = df['new_Date'].dt.month\n",
    "df['Day'] = df['new_Date'].dt.day\n",
    "print(df.head())\n"
   ]
  },
  {
   "cell_type": "code",
   "execution_count": 7,
   "metadata": {},
   "outputs": [
    {
     "output_type": "stream",
     "name": "stdout",
     "text": [
      "         Date  Close  Start   High    Low  Volume   new_Date  Year  Month  \\\n0  2018-07-02  10100  10850  10900  10000  137977 2018-07-02  2018      7   \n1  2018-06-29  10700  10550  10900   9990  170253 2018-06-29  2018      6   \n2  2018-06-28  10400  10900  10950  10150  155769 2018-06-28  2018      6   \n3  2018-06-27  10900  10800  11050  10500  133548 2018-06-27  2018      6   \n4  2018-06-26  10800  10900  11000  10700   63039 2018-06-26  2018      6   \n\n   Day Date_yr   Date_m  \n0    2    2018  2018-07  \n1   29    2018  2018-06  \n2   28    2018  2018-06  \n3   27    2018  2018-06  \n4   26    2018  2018-06  \n"
     ]
    }
   ],
   "source": [
    "# Timestamp를 Period로 변환하여 연-월-일 표기 변경하기\n",
    "df['Date_yr'] = df['new_Date'].dt.to_period(freq='A')\n",
    "df['Date_m'] = df['new_Date'].dt.to_period(freq='M')\n",
    "\n",
    "print(df.head())"
   ]
  },
  {
   "cell_type": "code",
   "execution_count": 8,
   "metadata": {},
   "outputs": [
    {
     "output_type": "stream",
     "name": "stdout",
     "text": [
      "               Date  Close  Start   High    Low  Volume   new_Date  Year  \\\nDate_m                                                                     \n2018-07  2018-07-02  10100  10850  10900  10000  137977 2018-07-02  2018   \n2018-06  2018-06-29  10700  10550  10900   9990  170253 2018-06-29  2018   \n2018-06  2018-06-28  10400  10900  10950  10150  155769 2018-06-28  2018   \n2018-06  2018-06-27  10900  10800  11050  10500  133548 2018-06-27  2018   \n2018-06  2018-06-26  10800  10900  11000  10700   63039 2018-06-26  2018   \n\n         Month  Day Date_yr  \nDate_m                       \n2018-07      7    2    2018  \n2018-06      6   29    2018  \n2018-06      6   28    2018  \n2018-06      6   27    2018  \n2018-06      6   26    2018  \n"
     ]
    }
   ],
   "source": [
    "df.set_index('Date_m', inplace=True)\n",
    "print(df.head())"
   ]
  },
  {
   "cell_type": "code",
   "execution_count": 9,
   "metadata": {},
   "outputs": [
    {
     "output_type": "execute_result",
     "data": {
      "text/plain": [
       "               Date  Close  Start   High    Low  Volume   new_Date  Year  \\\n",
       "Date_m                                                                     \n",
       "2018-07  2018-07-02  10100  10850  10900  10000  137977 2018-07-02  2018   \n",
       "2018-06  2018-06-29  10700  10550  10900   9990  170253 2018-06-29  2018   \n",
       "2018-06  2018-06-28  10400  10900  10950  10150  155769 2018-06-28  2018   \n",
       "2018-06  2018-06-27  10900  10800  11050  10500  133548 2018-06-27  2018   \n",
       "2018-06  2018-06-26  10800  10900  11000  10700   63039 2018-06-26  2018   \n",
       "\n",
       "         Month  Day Date_yr  \n",
       "Date_m                       \n",
       "2018-07      7    2    2018  \n",
       "2018-06      6   29    2018  \n",
       "2018-06      6   28    2018  \n",
       "2018-06      6   27    2018  \n",
       "2018-06      6   26    2018  "
      ],
      "text/html": "<div>\n<style scoped>\n    .dataframe tbody tr th:only-of-type {\n        vertical-align: middle;\n    }\n\n    .dataframe tbody tr th {\n        vertical-align: top;\n    }\n\n    .dataframe thead th {\n        text-align: right;\n    }\n</style>\n<table border=\"1\" class=\"dataframe\">\n  <thead>\n    <tr style=\"text-align: right;\">\n      <th></th>\n      <th>Date</th>\n      <th>Close</th>\n      <th>Start</th>\n      <th>High</th>\n      <th>Low</th>\n      <th>Volume</th>\n      <th>new_Date</th>\n      <th>Year</th>\n      <th>Month</th>\n      <th>Day</th>\n      <th>Date_yr</th>\n    </tr>\n    <tr>\n      <th>Date_m</th>\n      <th></th>\n      <th></th>\n      <th></th>\n      <th></th>\n      <th></th>\n      <th></th>\n      <th></th>\n      <th></th>\n      <th></th>\n      <th></th>\n      <th></th>\n    </tr>\n  </thead>\n  <tbody>\n    <tr>\n      <th>2018-07</th>\n      <td>2018-07-02</td>\n      <td>10100</td>\n      <td>10850</td>\n      <td>10900</td>\n      <td>10000</td>\n      <td>137977</td>\n      <td>2018-07-02</td>\n      <td>2018</td>\n      <td>7</td>\n      <td>2</td>\n      <td>2018</td>\n    </tr>\n    <tr>\n      <th>2018-06</th>\n      <td>2018-06-29</td>\n      <td>10700</td>\n      <td>10550</td>\n      <td>10900</td>\n      <td>9990</td>\n      <td>170253</td>\n      <td>2018-06-29</td>\n      <td>2018</td>\n      <td>6</td>\n      <td>29</td>\n      <td>2018</td>\n    </tr>\n    <tr>\n      <th>2018-06</th>\n      <td>2018-06-28</td>\n      <td>10400</td>\n      <td>10900</td>\n      <td>10950</td>\n      <td>10150</td>\n      <td>155769</td>\n      <td>2018-06-28</td>\n      <td>2018</td>\n      <td>6</td>\n      <td>28</td>\n      <td>2018</td>\n    </tr>\n    <tr>\n      <th>2018-06</th>\n      <td>2018-06-27</td>\n      <td>10900</td>\n      <td>10800</td>\n      <td>11050</td>\n      <td>10500</td>\n      <td>133548</td>\n      <td>2018-06-27</td>\n      <td>2018</td>\n      <td>6</td>\n      <td>27</td>\n      <td>2018</td>\n    </tr>\n    <tr>\n      <th>2018-06</th>\n      <td>2018-06-26</td>\n      <td>10800</td>\n      <td>10900</td>\n      <td>11000</td>\n      <td>10700</td>\n      <td>63039</td>\n      <td>2018-06-26</td>\n      <td>2018</td>\n      <td>6</td>\n      <td>26</td>\n      <td>2018</td>\n    </tr>\n  </tbody>\n</table>\n</div>"
     },
     "metadata": {},
     "execution_count": 9
    }
   ],
   "source": []
  },
  {
   "cell_type": "code",
   "execution_count": null,
   "metadata": {},
   "outputs": [],
   "source": []
  }
 ]
}