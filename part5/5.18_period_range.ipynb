{
 "metadata": {
  "language_info": {
   "codemirror_mode": {
    "name": "ipython",
    "version": 3
   },
   "file_extension": ".py",
   "mimetype": "text/x-python",
   "name": "python",
   "nbconvert_exporter": "python",
   "pygments_lexer": "ipython3",
   "version": "3.9.0-final"
  },
  "orig_nbformat": 2,
  "kernelspec": {
   "name": "Python 3.9.0 64-bit",
   "display_name": "Python 3.9.0 64-bit",
   "metadata": {
    "interpreter": {
     "hash": "fdd9659f4dcbd62ccf028b4e1378302f36c30bb00f61316be6e902f658fc72d5"
    }
   }
  }
 },
 "nbformat": 4,
 "nbformat_minor": 2,
 "cells": [
  {
   "cell_type": "code",
   "execution_count": 6,
   "metadata": {},
   "outputs": [
    {
     "output_type": "stream",
     "name": "stdout",
     "text": [
      "PeriodIndex(['2019-01', '2019-02', '2019-03'], dtype='period[M]', freq='M')\n"
     ]
    }
   ],
   "source": [
    "import pandas as pd\n",
    "\n",
    "# Period 배열 만들기 - 1개월 길이 \n",
    "\n",
    "pr_m = pd.period_range(start='2019-01-01', \n",
    "                        end=None,   # 날짜 범위 끝\n",
    "                        periods=3,  # 생성할 Period 개수 \n",
    "                        freq='M')   # 기간의 길이\n",
    "print(pr_m)"
   ]
  },
  {
   "cell_type": "code",
   "execution_count": 7,
   "metadata": {},
   "outputs": [
    {
     "output_type": "stream",
     "name": "stdout",
     "text": [
      "PeriodIndex(['2019-01-01 00:00', '2019-01-01 01:00', '2019-01-01 02:00'], dtype='period[H]', freq='H')\n"
     ]
    }
   ],
   "source": [
    "# ~~~~~ 생략 ~~~~~~\n",
    "\n",
    "# Period 배열 만들기 - 1시간 길이 \n",
    "pr_h = pd.period_range(start='2019-01-01',  # 날짜 범위 시작 \n",
    "                        end=None,           # 날짜 범위 끝\n",
    "                        periods=3,          # 생성할 period 개수 \n",
    "                        freq='H')           # 기간의 길이 \n",
    "print(pr_h)"
   ]
  },
  {
   "cell_type": "code",
   "execution_count": null,
   "metadata": {},
   "outputs": [],
   "source": []
  }
 ]
}