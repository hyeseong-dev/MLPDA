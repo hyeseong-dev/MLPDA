{
 "cells": [
  {
   "cell_type": "code",
   "execution_count": 1,
   "metadata": {},
   "outputs": [
    {
     "name": "stdout",
     "output_type": "stream",
     "text": [
      "Package             Version\n",
      "------------------- ---------\n",
      "argon2-cffi         20.1.0\n",
      "async-generator     1.10\n",
      "attrs               20.2.0\n",
      "backcall            0.2.0\n",
      "beautifulsoup4      4.9.3\n",
      "bleach              3.2.1\n",
      "bs4                 0.0.1\n",
      "certifi             2020.6.20\n",
      "cffi                1.14.3\n",
      "chardet             3.0.4\n",
      "colorama            0.4.3\n",
      "cycler              0.10.0\n",
      "decorator           4.4.2\n",
      "defusedxml          0.6.0\n",
      "entrypoints         0.3\n",
      "et-xmlfile          1.0.1\n",
      "html5lib            1.1\n",
      "idna                2.10\n",
      "ipykernel           5.3.4\n",
      "ipython             7.18.1\n",
      "ipython-genutils    0.2.0\n",
      "jdcal               1.4.1\n",
      "jedi                0.17.2\n",
      "Jinja2              2.11.2\n",
      "json5               0.9.5\n",
      "jsonschema          3.2.0\n",
      "jupyter-client      6.1.7\n",
      "jupyter-core        4.6.3\n",
      "jupyterlab          2.2.8\n",
      "jupyterlab-pygments 0.1.2\n",
      "jupyterlab-server   1.2.0\n",
      "kiwisolver          1.2.0\n",
      "lxml                4.5.2\n",
      "MarkupSafe          1.1.1\n",
      "matplotlib          3.3.2\n",
      "mistune             0.8.4\n",
      "nbclient            0.5.0\n",
      "nbconvert           6.0.6\n",
      "nbformat            5.0.7\n",
      "nest-asyncio        1.4.1\n",
      "notebook            6.1.4\n",
      "numpy               1.19.2\n",
      "openpyxl            3.0.5\n",
      "packaging           20.4\n",
      "pandas              1.1.2\n",
      "pandocfilters       1.4.2\n",
      "parso               0.7.1\n",
      "pickleshare         0.7.5\n",
      "Pillow              7.2.0\n",
      "pip                 20.2.1\n",
      "prometheus-client   0.8.0\n",
      "prompt-toolkit      3.0.7\n",
      "pycparser           2.20\n",
      "Pygments            2.7.1\n",
      "pyparsing           2.4.7\n",
      "pyrsistent          0.17.3\n",
      "python-dateutil     2.8.1\n",
      "pytz                2020.1\n",
      "pywin32             228\n",
      "pywinpty            0.5.7\n",
      "pyzmq               19.0.2\n",
      "requests            2.24.0\n",
      "scipy               1.5.2\n",
      "seaborn             0.11.0\n",
      "Send2Trash          1.5.0\n",
      "setuptools          49.2.1\n",
      "six                 1.15.0\n",
      "soupsieve           2.0.1\n",
      "terminado           0.9.1\n",
      "testpath            0.4.4\n",
      "tornado             6.0.4\n",
      "traitlets           5.0.4\n",
      "urllib3             1.25.10\n",
      "wcwidth             0.2.5\n",
      "webencodings        0.5.1\n",
      "xlrd                1.2.0\n"
     ]
    },
    {
     "name": "stderr",
     "output_type": "stream",
     "text": [
      "WARNING: You are using pip version 20.2.1; however, version 20.2.3 is available.\n",
      "You should consider upgrading via the 'd:\\data_anal\\mlpda\\.env\\scripts\\python.exe -m pip install --upgrade pip' command.\n"
     ]
    }
   ],
   "source": [
    "!pip list"
   ]
  },
  {
   "cell_type": "code",
   "execution_count": 2,
   "metadata": {},
   "outputs": [
    {
     "name": "stdout",
     "output_type": "stream",
     "text": [
      "Collecting folium\n",
      "  Downloading folium-0.11.0-py2.py3-none-any.whl (93 kB)\n",
      "Requirement already satisfied: jinja2>=2.9 in d:\\data_anal\\mlpda\\.env\\lib\\site-packages (from folium) (2.11.2)\n",
      "Requirement already satisfied: requests in d:\\data_anal\\mlpda\\.env\\lib\\site-packages (from folium) (2.24.0)\n",
      "Requirement already satisfied: numpy in d:\\data_anal\\mlpda\\.env\\lib\\site-packages (from folium) (1.19.2)\n",
      "Collecting branca>=0.3.0\n",
      "  Downloading branca-0.4.1-py3-none-any.whl (24 kB)\n",
      "Requirement already satisfied: MarkupSafe>=0.23 in d:\\data_anal\\mlpda\\.env\\lib\\site-packages (from jinja2>=2.9->folium) (1.1.1)\n",
      "Requirement already satisfied: chardet<4,>=3.0.2 in d:\\data_anal\\mlpda\\.env\\lib\\site-packages (from requests->folium) (3.0.4)\n",
      "Requirement already satisfied: urllib3!=1.25.0,!=1.25.1,<1.26,>=1.21.1 in d:\\data_anal\\mlpda\\.env\\lib\\site-packages (from requests->folium) (1.25.10)\n",
      "Requirement already satisfied: certifi>=2017.4.17 in d:\\data_anal\\mlpda\\.env\\lib\\site-packages (from requests->folium) (2020.6.20)\n",
      "Requirement already satisfied: idna<3,>=2.5 in d:\\data_anal\\mlpda\\.env\\lib\\site-packages (from requests->folium) (2.10)\n",
      "Installing collected packages: branca, folium\n",
      "Successfully installed branca-0.4.1 folium-0.11.0\n"
     ]
    },
    {
     "name": "stderr",
     "output_type": "stream",
     "text": [
      "WARNING: You are using pip version 20.2.1; however, version 20.2.3 is available.\n",
      "You should consider upgrading via the 'd:\\data_anal\\mlpda\\.env\\scripts\\python.exe -m pip install --upgrade pip' command.\n"
     ]
    }
   ],
   "source": [
    "!pip install folium"
   ]
  },
  {
   "cell_type": "code",
   "execution_count": 7,
   "metadata": {},
   "outputs": [
    {
     "name": "stdout",
     "output_type": "stream",
     "text": [
      "Collecting pip\n",
      "  Using cached pip-20.2.3-py2.py3-none-any.whl (1.5 MB)\n",
      "Installing collected packages: pip\n",
      "  Attempting uninstall: pip\n",
      "    Found existing installation: pip 20.2.1\n",
      "    Uninstalling pip-20.2.1:\n",
      "      Successfully uninstalled pip-20.2.1\n",
      "Successfully installed pip-20.2.3\n"
     ]
    }
   ],
   "source": [
    "!python -m pip install --upgrade pip"
   ]
  },
  {
   "cell_type": "code",
   "execution_count": 8,
   "metadata": {},
   "outputs": [],
   "source": [
    "import folium\n",
    "\n",
    "# 서울 지도 만들기\n",
    "seoul_map = folium.Map(location=[37.55, 126.98], zoom_start=12)\n",
    "\n",
    "# 지도를 HTML파일로 저장하기\n",
    "seoul_map.save('./seoul.html')"
   ]
  },
  {
   "cell_type": "code",
   "execution_count": 9,
   "metadata": {},
   "outputs": [],
   "source": [
    "import folium\n",
    "\n",
    "# 서울 지도 만들기 \n",
    "seoul_map2 = folium.Map(location=[37.55, 126.99], tiles='Stamen Terrain',\n",
    "                                zoom_start=12)\n",
    "seoul_map3 = folium.Map(location=[37.55, 126.99], tiles='Stamen Toner',\n",
    "                                zoom_start=12)\n",
    "\n",
    "# 지도를 HTML로 저장하기 \n",
    "seoul_map2.save('./seoul2.html')\n",
    "seoul_map3.save('./seoul3.html')"
   ]
  },
  {
   "cell_type": "code",
   "execution_count": 13,
   "metadata": {},
   "outputs": [],
   "source": [
    "import pandas as pd \n",
    "import folium\n",
    "\n",
    "# 대학교 리스트를 데이터프레임으로 변환 \n",
    "df = pd.read_excel('./서울지역 대학교 위치.xlsx')\n",
    "\n",
    "# 서울 지도 만들기 \n",
    "seoul_map = folium.Map(location=[37.55,126.98], tiles='Stamen Terrain', \n",
    "                                zoom_start=12)\n",
    "\n",
    "# 대학교 위치 정보를 Marker로 표시 \n",
    "for name, lat, lng in zip(df.index, df.위도, df.경도):\n",
    "    folium.Marker([lat, lng], popup=name).add_to(seoul_map)\n",
    "                                \n",
    "# 지도를 HTML 파일로 저장하기 \n",
    "seoul_map.save('./seoul_colleges.html')"
   ]
  },
  {
   "cell_type": "code",
   "execution_count": 17,
   "metadata": {},
   "outputs": [],
   "source": [
    "import pandas as pd\n",
    "import folium\n",
    "\n",
    "# 대학교의 리스트를 데이터프레임으로 변환 \n",
    "df = pd.read_excel('./서울지역 대학교 위치.xlsx')\n",
    "\n",
    "# seoul 지도 만들기\n",
    "seoul_map = folium.Map(location=[37.55,126.98], tiles='Stamen Terrain', \n",
    "                                zoom_start=12)\n",
    "\n",
    "# 대학교 위치정보를 마로 표시\n",
    "for name, lat, lng in zip(df.index, df.위도, df.경도):\n",
    "                                folium.CircleMarker([lat,lng], \n",
    "                                radius=10, \n",
    "                                color='brown', \n",
    "                                fill=True, \n",
    "                                fill_color='coral', \n",
    "                                fill_opacity=0.7, \n",
    "                                popup=name\n",
    "                                ).add_to(seoul_map)\n",
    "# 지도를 HTML 파일로 저장하기 \n",
    "seoul_map.save('./seoul_colleges2.html')"
   ]
  },
  {
   "cell_type": "code",
   "execution_count": 22,
   "metadata": {},
   "outputs": [],
   "source": [
    "import pandas as pd \n",
    "import folium\n",
    "import json\n",
    "\n",
    "# 경기도 인구변화 데이터를 불러와서 데이터프레임으로 변환 \n",
    "file_path = './경기도인구데이터.xlsx'\n",
    "df = pd.read_excel(file_path, index_col='구분')\n",
    "df.columns = df.columns.map(str)\n",
    "\n",
    "#경기도 시군구 경계 정보를 가진 geo-json파일 불러오기 \n",
    "geo_path = './경기도행정구역경계.json'\n",
    "try:\n",
    "    geo_data = json.load(open(geo_path, encoding='utf-8'))\n",
    "except:\n",
    "    geo_data = json.load(open(geo_path, encoding='utf-8-sig'))\n",
    "\n",
    "# 경기도 지도 만들기 \n",
    "g_map = folium.Map(location=[37.5502, 126.982],\n",
    "                            tiles='Stamen Terrain', zoom_start=9)\n",
    "\n",
    "# 출력할 연도 선택(2007-2017년 중에서 선택)\n",
    "year = '2007'\n",
    "\n",
    "# Choropleth 클래스로 단계 구분도 표시하기 \n",
    "folium.Choropleth(geo_data=geo_data,   # 지도 경계\n",
    "                 data = df[year],      # 표시하려는 데이터\n",
    "                 columns = [df.index, df[year]],  # 열 지정\n",
    "                 fill_color='YlOrRd', fill_opacity=0.7, line_opacity=0.3,\n",
    "                 threshold_scale=[10000, 100000, 300000, 500000, 700000],  \n",
    "               key_on='feature.properties.name',\n",
    "                 ).add_to(g_map)\n",
    "\n",
    "# 지도를 HTML 파일로 저장하기 \n",
    "g_map.save('./gyonggi_population_'+year+'.html')"
   ]
  },
  {
   "cell_type": "code",
   "execution_count": null,
   "metadata": {},
   "outputs": [],
   "source": []
  }
 ],
 "metadata": {
  "kernelspec": {
   "display_name": "Python 3",
   "language": "python",
   "name": "python3"
  },
  "language_info": {
   "codemirror_mode": {
    "name": "ipython",
    "version": 3
   },
   "file_extension": ".py",
   "mimetype": "text/x-python",
   "name": "python",
   "nbconvert_exporter": "python",
   "pygments_lexer": "ipython3",
   "version": "3.8.6rc1"
  }
 },
 "nbformat": 4,
 "nbformat_minor": 4
}
